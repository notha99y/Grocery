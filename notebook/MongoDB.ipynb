{
 "cells": [
  {
   "cell_type": "code",
   "execution_count": 1,
   "metadata": {},
   "outputs": [],
   "source": [
    "from pymongo import MongoClient"
   ]
  },
  {
   "cell_type": "code",
   "execution_count": 2,
   "metadata": {},
   "outputs": [],
   "source": [
    "client = MongoClient()"
   ]
  },
  {
   "cell_type": "code",
   "execution_count": 3,
   "metadata": {},
   "outputs": [],
   "source": [
    "db = client.Grocery"
   ]
  },
  {
   "cell_type": "code",
   "execution_count": 5,
   "metadata": {},
   "outputs": [],
   "source": [
    "fairprice = db.fairprice"
   ]
  },
  {
   "cell_type": "code",
   "execution_count": 8,
   "metadata": {},
   "outputs": [
    {
     "name": "stdout",
     "output_type": "stream",
     "text": [
      "{'_id': ObjectId('5b7a6ecd6e20542df0429127'), 'Title': 'Tesco Cling Film Roll (35cm x 25m)', 'Weight_Volume': '1 per pack', 'Price': '$2.60', 'Key Info': [], 'COUNTRY OF ORIGIN': 'United Kingdom', 'PREPARATION': 'Directions:• Roll-hold tabs - Lift slightly before pushing in the perforated tabs located at either end of the box• Easy start - The start of the roll is roughened to make finding it much easierNote:• To open, insert knife under the flap and slide along• Do not use fingers• Find the start of roll before pushing in tabImportant (Microwave): 1. When cooking in a microwave do not wrap food directly in the film2. For best results, place over container or dish fold back a corner to allow steam to escape3. Do not use in conventional or combination ovens or microwave browning units'}\n",
      "{'_id': ObjectId('5b7a6ed16e20542df0429128'), 'Title': 'Tesco Cling Film Roll (35cm x 50m)', 'Weight_Volume': '1 per pack', 'Price': '$2.95', 'Key Info': [' Keeping food fresh and hygenic', ' Wrap and cover all food, including food', ' Suitable for use in fridge and microwave together with general food wrapping', ' This product has a dimension of approximately : 350mm x 50mm'], 'COUNTRY OF ORIGIN': 'United Kingdom', 'PREPARATION': 'Directions:• Roll-hold tabs - Lift slightly before pushing in the perforated tabs located at either end of the box• Easy start - The start of the roll is roughened to make finding it much easierNote:• To open, insert knife under the flap and slide along• Do not use fingers• Find the start of roll before pushing in tab'}\n"
     ]
    }
   ],
   "source": [
    "for i in fairprice.find():\n",
    "    print(i)"
   ]
  },
  {
   "cell_type": "code",
   "execution_count": 4,
   "metadata": {},
   "outputs": [],
   "source": [
    "redmart = db.redmart"
   ]
  },
  {
   "cell_type": "code",
   "execution_count": null,
   "metadata": {},
   "outputs": [],
   "source": []
  }
 ],
 "metadata": {
  "kernelspec": {
   "display_name": "Python 3",
   "language": "python",
   "name": "python3"
  },
  "language_info": {
   "codemirror_mode": {
    "name": "ipython",
    "version": 3
   },
   "file_extension": ".py",
   "mimetype": "text/x-python",
   "name": "python",
   "nbconvert_exporter": "python",
   "pygments_lexer": "ipython3",
   "version": "3.6.4"
  }
 },
 "nbformat": 4,
 "nbformat_minor": 2
}
